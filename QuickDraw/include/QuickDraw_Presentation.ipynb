version https://git-lfs.github.com/spec/v1
oid sha256:130d631e2abc7b099b3739189d57210d6b27c654cc26f429019ee6f54464778d
size 42245
